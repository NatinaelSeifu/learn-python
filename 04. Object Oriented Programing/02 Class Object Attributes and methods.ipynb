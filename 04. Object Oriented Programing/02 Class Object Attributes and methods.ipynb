{
 "cells": [
  {
   "cell_type": "code",
   "execution_count": 7,
   "metadata": {},
   "outputs": [],
   "source": [
    "class Dog():\n",
    "    # 2. Here species is a CLASS OBJECT ATTRIBUTE\n",
    "    # not connected to any particular instance\n",
    "    species = 'mamal'\n",
    "\n",
    "    def __init__(self, breed, name, spots) :  \n",
    "        self.breed = breed              # 1.here are also a special init method for user defined attributes\n",
    "        self.name = name\n",
    "        self.spots = spots\n",
    "    \n",
    "    # 3. in here we define methods --- > Operations / Actions\n",
    "    # These Methods are like functions that are inside of a class that will actually work with the object\n",
    "    def bark(self,number):\n",
    "\n",
    "        # print ('WooF My name Is {} and my number is {}'.format(self.name)) # 4. Here in 'self.name' we are passing the dog's name, while working with objects passing only 'name' wouldnt be enough.\n",
    "        # now run this and then bark()\n",
    "        print ('WooF My name Is {} and my number is {}'.format(self.name,number)) # 5. only adding the number for the bark method\n",
    "        # everytime u make a change make sure to run it.\n",
    "my_dog = Dog(breed='Shepard', name='Jack', spots=False)"
   ]
  },
  {
   "cell_type": "code",
   "execution_count": 2,
   "metadata": {},
   "outputs": [
    {
     "data": {
      "text/plain": [
       "__main__.Dog"
      ]
     },
     "execution_count": 2,
     "metadata": {},
     "output_type": "execute_result"
    }
   ],
   "source": [
    "type(my_dog)"
   ]
  },
  {
   "cell_type": "code",
   "execution_count": null,
   "metadata": {},
   "outputs": [],
   "source": [
    "my_dog.species"
   ]
  },
  {
   "cell_type": "code",
   "execution_count": 2,
   "metadata": {},
   "outputs": [
    {
     "data": {
      "text/plain": [
       "<bound method Dog.bark of <__main__.Dog object at 0x7f85f2a56170>>"
      ]
     },
     "execution_count": 2,
     "metadata": {},
     "output_type": "execute_result"
    }
   ],
   "source": [
    "my_dog.bark # with no () it will result error"
   ]
  },
  {
   "cell_type": "code",
   "execution_count": 5,
   "metadata": {},
   "outputs": [
    {
     "name": "stdout",
     "output_type": "stream",
     "text": [
      "WooF My name Is Jack\n"
     ]
    }
   ],
   "source": [
    "my_dog.bark()  # 4. methods needs to be executed with () where as not for the attributes"
   ]
  },
  {
   "cell_type": "code",
   "execution_count": 8,
   "metadata": {},
   "outputs": [
    {
     "name": "stdout",
     "output_type": "stream",
     "text": [
      "WooF My name Is Jack and my number is 10\n"
     ]
    }
   ],
   "source": [
    "my_dog.bark(10) # 5. to add the number"
   ]
  },
  {
   "cell_type": "code",
   "execution_count": 20,
   "metadata": {},
   "outputs": [],
   "source": [
    "# another example\n",
    "class Circle():\n",
    "    #class object attribute\n",
    "    pi = 3.14\n",
    "    def __init__(self, radius=1) : # define radius with the default value of 1\n",
    "        self.radius = radius\n",
    "        self.area = radius**2*Circle.pi # or in place of Circle.pi you can use 'self.pi 'because its a class object attribute\n",
    "    # define method\n",
    "    def get_circumference(self):\n",
    "        return self.radius * self.pi *2"
   ]
  },
  {
   "cell_type": "code",
   "execution_count": 21,
   "metadata": {},
   "outputs": [],
   "source": [
    "my_circle = Circle(30) # here with 30 I overide the value of radius"
   ]
  },
  {
   "cell_type": "code",
   "execution_count": 22,
   "metadata": {},
   "outputs": [
    {
     "data": {
      "text/plain": [
       "3.14"
      ]
     },
     "execution_count": 22,
     "metadata": {},
     "output_type": "execute_result"
    }
   ],
   "source": [
    "my_circle.pi"
   ]
  },
  {
   "cell_type": "code",
   "execution_count": 16,
   "metadata": {},
   "outputs": [
    {
     "data": {
      "text/plain": [
       "30"
      ]
     },
     "execution_count": 16,
     "metadata": {},
     "output_type": "execute_result"
    }
   ],
   "source": [
    "my_circle.radius"
   ]
  },
  {
   "cell_type": "code",
   "execution_count": 23,
   "metadata": {},
   "outputs": [
    {
     "data": {
      "text/plain": [
       "2826.0"
      ]
     },
     "execution_count": 23,
     "metadata": {},
     "output_type": "execute_result"
    }
   ],
   "source": [
    "my_circle.area"
   ]
  },
  {
   "cell_type": "code",
   "execution_count": 17,
   "metadata": {},
   "outputs": [
    {
     "data": {
      "text/plain": [
       "188.4"
      ]
     },
     "execution_count": 17,
     "metadata": {},
     "output_type": "execute_result"
    }
   ],
   "source": [
    "my_circle.get_circumference()"
   ]
  }
 ],
 "metadata": {
  "kernelspec": {
   "display_name": "Python 3",
   "language": "python",
   "name": "python3"
  },
  "language_info": {
   "codemirror_mode": {
    "name": "ipython",
    "version": 3
   },
   "file_extension": ".py",
   "mimetype": "text/x-python",
   "name": "python",
   "nbconvert_exporter": "python",
   "pygments_lexer": "ipython3",
   "version": "3.10.12"
  }
 },
 "nbformat": 4,
 "nbformat_minor": 2
}
