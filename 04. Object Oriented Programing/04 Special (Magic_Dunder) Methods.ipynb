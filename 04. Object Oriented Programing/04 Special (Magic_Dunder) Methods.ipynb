{
 "cells": [
  {
   "cell_type": "code",
   "execution_count": 14,
   "metadata": {},
   "outputs": [
    {
     "name": "stdout",
     "output_type": "stream",
     "text": [
      "The book object is deleted\n",
      "Python by Jose\n"
     ]
    },
    {
     "data": {
      "text/plain": [
       "200"
      ]
     },
     "execution_count": 14,
     "metadata": {},
     "output_type": "execute_result"
    }
   ],
   "source": [
    "class Book():\n",
    "\n",
    "    def __init__(self, title, author, pages) :\n",
    "        \n",
    "        self.title = title\n",
    "        self.author = author\n",
    "        self.pages = pages\n",
    "    \n",
    "    # 2. so to make the 'print' work i will add a string representation using a method\n",
    "    # 3. Here i am defining a string representation of the class, \n",
    "    def __str__(self) :\n",
    "        return (f'{self.title} by {self.author}')\n",
    "    \n",
    "    # 4. lets add one more \n",
    "    def __len__ (self):\n",
    "        return self.pages\n",
    "    \n",
    "    # 6. if I want to to basically specify extra things to happen when i delete the variable\n",
    "    def __del__ (self):\n",
    "        print ('The book object is deleted')\n",
    "\n",
    "# 0. instantiate my class\n",
    "my_book = Book('Python', 'Jose', 200)\n",
    "\n",
    "# 1. if I try the following it will throw an error\n",
    "\n",
    "print (my_book)\n",
    "\n",
    "# 5. for __len__\n",
    "\n",
    "len(my_book) # len returns the length of user defined objects"
   ]
  },
  {
   "cell_type": "code",
   "execution_count": 9,
   "metadata": {},
   "outputs": [
    {
     "ename": "NameError",
     "evalue": "name 'my_book' is not defined",
     "output_type": "error",
     "traceback": [
      "\u001b[0;31m---------------------------------------------------------------------------\u001b[0m",
      "\u001b[0;31mNameError\u001b[0m                                 Traceback (most recent call last)",
      "Cell \u001b[0;32mIn[9], line 6\u001b[0m\n\u001b[1;32m      3\u001b[0m \u001b[38;5;28;01mdel\u001b[39;00m my_book\n\u001b[1;32m      5\u001b[0m \u001b[38;5;66;03m# if you try to run the book, you wont get it\u001b[39;00m\n\u001b[0;32m----> 6\u001b[0m \u001b[43mmy_book\u001b[49m\n",
      "\u001b[0;31mNameError\u001b[0m: name 'my_book' is not defined"
     ]
    }
   ],
   "source": [
    "# if I want to delete the book class i can use\n",
    "\n",
    "del my_book\n",
    "\n",
    "# if you try to run the book, you wont get it, end up with error\n",
    "my_book"
   ]
  }
 ],
 "metadata": {
  "kernelspec": {
   "display_name": "Python 3",
   "language": "python",
   "name": "python3"
  },
  "language_info": {
   "codemirror_mode": {
    "name": "ipython",
    "version": 3
   },
   "file_extension": ".py",
   "mimetype": "text/x-python",
   "name": "python",
   "nbconvert_exporter": "python",
   "pygments_lexer": "ipython3",
   "version": "3.10.12"
  }
 },
 "nbformat": 4,
 "nbformat_minor": 2
}
