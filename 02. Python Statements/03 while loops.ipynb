{
 "cells": [
  {
   "cell_type": "markdown",
   "metadata": {},
   "source": [
    "* while loops will continue to execute a block of code **while** some condition remains True.\n",
    "* eg . `while my pool is not full, keep filling my pool with water`.\n",
    "* Syntax :\n",
    "```python\n",
    "        while some_boolean_condition:  \n",
    "            Do something  \n",
    "        else :\n",
    "            do something different\n",
    "```"
   ]
  },
  {
   "cell_type": "code",
   "execution_count": null,
   "metadata": {},
   "outputs": [],
   "source": [
    "x = 0\n",
    "\n",
    "while x < 5:\n",
    "    print (f'current value is {x}')\n",
    "    x += 1\n",
    "else :\n",
    "    print ('exit')"
   ]
  },
  {
   "cell_type": "markdown",
   "metadata": {},
   "source": [
    "* In loop there statements to add additional functionality for various cases. These are :\n",
    "  * break: breaks out of current closest enclosing loop.\n",
    "  * continue: goes to the top of the closest enclosing loop.\n",
    "  * pass : Does nothing at all."
   ]
  },
  {
   "cell_type": "code",
   "execution_count": null,
   "metadata": {},
   "outputs": [],
   "source": [
    "# pass\n",
    "x = [1,2,3]\n",
    "for item in x:\n",
    "    pass\n",
    "\n",
    "#continue\n",
    "my_string= 'Nathaniel'\n",
    "for letter in my_string:\n",
    "    if letter == 'a':\n",
    "        continue\n",
    "    print (letter)\n",
    "\n",
    "# break\n",
    "for letter in my_string:\n",
    "    if letter == 'a':\n",
    "        break\n",
    "    print (letter)\n",
    "\n",
    "# break in while loop\n",
    "x = 0\n",
    "\n",
    "while x < 5:\n",
    "    if x == 2:\n",
    "        break\n",
    "    print (x)\n",
    "    x += 1"
   ]
  }
 ],
 "metadata": {
  "kernelspec": {
   "display_name": "Python 3",
   "language": "python",
   "name": "python3"
  },
  "language_info": {
   "codemirror_mode": {
    "name": "ipython",
    "version": 3
   },
   "file_extension": ".py",
   "mimetype": "text/x-python",
   "name": "python",
   "nbconvert_exporter": "python",
   "pygments_lexer": "ipython3",
   "version": "3.10.12"
  }
 },
 "nbformat": 4,
 "nbformat_minor": 2
}
