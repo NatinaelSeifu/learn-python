{
 "cells": [
  {
   "cell_type": "markdown",
   "metadata": {},
   "source": [
    "* Helps to execute certain of code when a particular condition has been met.\n",
    "* Helps when dealing a control flow.\n",
    "  * some keywords are :\n",
    "    * if\n",
    "    * elif\n",
    "    * else\n",
    "* Indentations are crucial here.\n",
    "* syntax of an **if** statement\n",
    "* if 'some condition':\n",
    "    ```\n",
    "        # execute some code\n",
    "    ```\n",
    "\n",
    "* including 'else'\n",
    "    * if 'some condition':\n",
    "        ```\n",
    "            # execute some code\n",
    "        ```\n",
    "    * elif 'some other condition':\n",
    "        ```\n",
    "            # do something different\n",
    "        ```\n",
    "    * else 'some condition':\n",
    "        ```\n",
    "            # do something else\n",
    "        ```\n"
   ]
  },
  {
   "cell_type": "code",
   "execution_count": 2,
   "metadata": {},
   "outputs": [
    {
     "name": "stdout",
     "output_type": "stream",
     "text": [
      "Feed Me!\n"
     ]
    }
   ],
   "source": [
    "hungry = True\n",
    "if hungry:\n",
    "    print ('Feed Me!')"
   ]
  },
  {
   "cell_type": "code",
   "execution_count": 1,
   "metadata": {},
   "outputs": [
    {
     "name": "stdout",
     "output_type": "stream",
     "text": [
      "I am spoiled\n"
     ]
    }
   ],
   "source": [
    "# including else\n",
    "# else doesnt have any other conditions attached to it. B/c we are going to execute Else if none of the conditions above happened to be True.\n",
    "hungry = False\n",
    "if hungry:\n",
    "    print ('Feed Me!')\n",
    "else :\n",
    "    print ('I am spoiled')"
   ]
  },
  {
   "cell_type": "code",
   "execution_count": 5,
   "metadata": {},
   "outputs": [
    {
     "name": "stdout",
     "output_type": "stream",
     "text": [
      "you are doing good\n"
     ]
    }
   ],
   "source": [
    "# including elif\n",
    "grade = 'B'\n",
    "\n",
    "if grade == 'A':\n",
    "    print ('you are getting awesome')\n",
    "elif grade == 'B':\n",
    "    print ('you are doing good')\n",
    "else :\n",
    "    print ('you are in danger')"
   ]
  }
 ],
 "metadata": {
  "kernelspec": {
   "display_name": "Python 3",
   "language": "python",
   "name": "python3"
  },
  "language_info": {
   "codemirror_mode": {
    "name": "ipython",
    "version": 3
   },
   "file_extension": ".py",
   "mimetype": "text/x-python",
   "name": "python",
   "nbconvert_exporter": "python",
   "pygments_lexer": "ipython3",
   "version": "3.10.12"
  }
 },
 "nbformat": 4,
 "nbformat_minor": 2
}
