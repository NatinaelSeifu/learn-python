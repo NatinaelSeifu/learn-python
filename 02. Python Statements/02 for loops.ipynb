{
 "cells": [
  {
   "cell_type": "markdown",
   "metadata": {},
   "source": [
    "* Many objects in python are **Iterable**, meanig that we can iterate over every element in the object.\n",
    "* such as every element in a list or every character in a string.\n",
    "* we can use for loops to execute a block of code for every iteration.\n",
    "  * Syntax :  \n",
    "  ```python\n",
    "  my_iterable = [1, 2, 3]\n",
    "  for item_name in my_iterable:\n",
    "      print(item_name)\n",
    "  ```\n"
   ]
  },
  {
   "cell_type": "code",
   "execution_count": null,
   "metadata": {},
   "outputs": [],
   "source": [
    "my_list = [1,2,3,4,5,6,7,8,9,10]\n",
    "for num in my_list:\n",
    "    print (num)\n",
    "    # can also print another thing, replace (num) by any string u want like below\n",
    "    # print ('tada')\n"
   ]
  },
  {
   "cell_type": "code",
   "execution_count": null,
   "metadata": {},
   "outputs": [],
   "source": [
    "# another example using 'if'\n",
    "for num in my_list:\n",
    "    if num % 2 == 0:\n",
    "        print (num)\n",
    "    else :\n",
    "        print (f'Odd number : {num}')"
   ]
  },
  {
   "cell_type": "code",
   "execution_count": 10,
   "metadata": {},
   "outputs": [
    {
     "name": "stdout",
     "output_type": "stream",
     "text": [
      "55\n"
     ]
    }
   ],
   "source": [
    "# effect of indentation, difference between inside print and outside print\n",
    "list_sum = 0\n",
    "for num in my_list :\n",
    "    list_sum = list_sum + num\n",
    "    print (list_sum)\n",
    "print (list_sum)"
   ]
  },
  {
   "cell_type": "code",
   "execution_count": null,
   "metadata": {},
   "outputs": [],
   "source": [
    "# tuple in for loop inside a list\n",
    "list01 = [(1,2),(3,4),(5,6),(7,8)]\n",
    "\n",
    "for item in list01:\n",
    "    print (item)"
   ]
  },
  {
   "cell_type": "code",
   "execution_count": null,
   "metadata": {},
   "outputs": [],
   "source": [
    "# now lets see tuple unpacking\n",
    "for a,b in list01:\n",
    "    print (a)\n",
    "    print (b)"
   ]
  },
  {
   "cell_type": "code",
   "execution_count": null,
   "metadata": {},
   "outputs": [],
   "source": [
    "# working with dictionary\n",
    "d = {'k1': 1, 'k2':2, 'k3':3}\n",
    "\n",
    "# default prints only keys\n",
    "for items in d:\n",
    "    print (items)\n",
    "\n",
    "# printing the pairs\n",
    "for items in d.items():\n",
    "    print (items)\n",
    "\n",
    "# printing only values\n",
    "for key,value in d.items():\n",
    "    print (value)\n",
    "#another way for values\n",
    "for value in d.values():\n",
    "    print (value)"
   ]
  }
 ],
 "metadata": {
  "kernelspec": {
   "display_name": "Python 3",
   "language": "python",
   "name": "python3"
  },
  "language_info": {
   "codemirror_mode": {
    "name": "ipython",
    "version": 3
   },
   "file_extension": ".py",
   "mimetype": "text/x-python",
   "name": "python",
   "nbconvert_exporter": "python",
   "pygments_lexer": "ipython3",
   "version": "3.10.12"
  }
 },
 "nbformat": 4,
 "nbformat_minor": 2
}
