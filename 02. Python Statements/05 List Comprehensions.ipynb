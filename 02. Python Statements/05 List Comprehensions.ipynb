{
 "cells": [
  {
   "cell_type": "markdown",
   "metadata": {},
   "source": [
    "* List Comprehensions are a unique way of quickly creating a list with python.\n",
    "* if u find yourself using a for loop along with .append() to create a list, List Comprehensions are a good alternative!"
   ]
  },
  {
   "cell_type": "code",
   "execution_count": 2,
   "metadata": {},
   "outputs": [
    {
     "name": "stdout",
     "output_type": "stream",
     "text": [
      "['H', 'a', 'l', 'l', 'o']\n"
     ]
    }
   ],
   "source": [
    "list01 = []\n",
    "string01 = 'Hallo'\n",
    "for letter in string01:\n",
    "    list01.append(letter)\n",
    "print (list01)"
   ]
  },
  {
   "cell_type": "code",
   "execution_count": 3,
   "metadata": {},
   "outputs": [
    {
     "data": {
      "text/plain": [
       "['H', 'a', 'l', 'l', 'o']"
      ]
     },
     "execution_count": 3,
     "metadata": {},
     "output_type": "execute_result"
    }
   ],
   "source": [
    "# making it simpler in List Comprehensions\n",
    "list02= [letter for letter in string01]\n",
    "list02"
   ]
  },
  {
   "cell_type": "code",
   "execution_count": 4,
   "metadata": {},
   "outputs": [
    {
     "data": {
      "text/plain": [
       "['i', 't', 's', ' ', 'w', 'o', 'r', 'k', 'i', 'n', 'g']"
      ]
     },
     "execution_count": 4,
     "metadata": {},
     "output_type": "execute_result"
    }
   ],
   "source": [
    "list03 = [tempvar for tempvar in 'its working']\n",
    "list03"
   ]
  },
  {
   "cell_type": "code",
   "execution_count": 10,
   "metadata": {},
   "outputs": [
    {
     "data": {
      "text/plain": [
       "[1, 4, 9, 16, 25, 36, 49, 64, 81, 100]"
      ]
     },
     "execution_count": 10,
     "metadata": {},
     "output_type": "execute_result"
    }
   ],
   "source": [
    "numlist = [num**2 for num in range(1,11) ]\n",
    "numlist\n",
    "\n",
    "# The above code is the exact same with below\n",
    "numlist = []\n",
    "for num in range(1,11):\n",
    "    numlist.append(num**2)\n",
    "numlist"
   ]
  },
  {
   "cell_type": "code",
   "execution_count": 7,
   "metadata": {},
   "outputs": [
    {
     "data": {
      "text/plain": [
       "[33.8, 77.0, 147.2, 60.8, 72.14]"
      ]
     },
     "execution_count": 7,
     "metadata": {},
     "output_type": "execute_result"
    }
   ],
   "source": [
    "celcius = [1,25,64,16.0,22.3]\n",
    "fahrenheit = [(9/5)*temp +32 for temp in celcius]\n",
    "fahrenheit"
   ]
  },
  {
   "cell_type": "code",
   "execution_count": 11,
   "metadata": {},
   "outputs": [
    {
     "data": {
      "text/plain": [
       "[2, 4, 6, 8, 10]"
      ]
     },
     "execution_count": 11,
     "metadata": {},
     "output_type": "execute_result"
    }
   ],
   "source": [
    "# adding if statement\n",
    "list04 = [x for x in range(1,11) if x%2==0]\n",
    "list04"
   ]
  },
  {
   "cell_type": "code",
   "execution_count": 17,
   "metadata": {},
   "outputs": [
    {
     "data": {
      "text/plain": [
       "['odd', 2, 'odd', 4, 'odd', 6, 'odd', 8, 'odd', 10]"
      ]
     },
     "execution_count": 17,
     "metadata": {},
     "output_type": "execute_result"
    }
   ],
   "source": [
    "#doing an if else statement in list comprehension\n",
    "list05 = [x if x%2==0 else 'odd' for x in range(1,11)]\n",
    "list05\n",
    "\n",
    "# breaking it down in formal expression\n",
    "list05 = []\n",
    "for x in range(1,11):\n",
    "    if x%2 == 0:\n",
    "        list05.append(x)\n",
    "    else :\n",
    "        list05.append('odd')\n",
    "list05"
   ]
  },
  {
   "cell_type": "code",
   "execution_count": 20,
   "metadata": {},
   "outputs": [
    {
     "data": {
      "text/plain": [
       "[10, 100, 1000, 20, 200, 2000, 30, 300, 3000]"
      ]
     },
     "execution_count": 20,
     "metadata": {},
     "output_type": "execute_result"
    }
   ],
   "source": [
    "nestedlist = []\n",
    "for x in [1,2,3]:\n",
    "    for y in [10,100,1000]:\n",
    "        nestedlist.append(x*y)\n",
    "nestedlist\n",
    "\n",
    "# using in list comprehension \n",
    "nestedlist = [x*y for x in [1,2,3] for y in [10,100,1000]]\n",
    "nestedlist"
   ]
  }
 ],
 "metadata": {
  "kernelspec": {
   "display_name": "Python 3",
   "language": "python",
   "name": "python3"
  },
  "language_info": {
   "codemirror_mode": {
    "name": "ipython",
    "version": 3
   },
   "file_extension": ".py",
   "mimetype": "text/x-python",
   "name": "python",
   "nbconvert_exporter": "python",
   "pygments_lexer": "ipython3",
   "version": "3.10.12"
  }
 },
 "nbformat": 4,
 "nbformat_minor": 2
}
