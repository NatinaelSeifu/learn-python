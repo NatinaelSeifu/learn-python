{
 "cells": [
  {
   "cell_type": "code",
   "execution_count": 9,
   "metadata": {},
   "outputs": [],
   "source": [
    "from random import shuffle\n",
    "\n",
    "example = [3,4,5,6,7,8,9,10]\n",
    "result = shuffle(example)\n",
    "result\n",
    "# this the above code wont give me a result or printed it out so forward to the below one\n"
   ]
  },
  {
   "cell_type": "code",
   "execution_count": 11,
   "metadata": {},
   "outputs": [
    {
     "data": {
      "text/plain": [
       "[3, 9, 5, 6, 8, 10, 7, 4]"
      ]
     },
     "execution_count": 11,
     "metadata": {},
     "output_type": "execute_result"
    }
   ],
   "source": [
    "def shuffle_list(mylist):\n",
    "    shuffle(mylist)\n",
    "    return mylist\n",
    "\n",
    "result = shuffle_list(example)\n",
    "result"
   ]
  },
  {
   "cell_type": "code",
   "execution_count": 25,
   "metadata": {},
   "outputs": [
    {
     "name": "stdout",
     "output_type": "stream",
     "text": [
      "you are wrong\n",
      "[' ', 'O', ' ']\n"
     ]
    }
   ],
   "source": [
    "# Now lets play a game to find a ball, that we will mimic it with 'O', which helps in connects 3 functions\n",
    "# Initial List\n",
    "from random import shuffle\n",
    "game_list = [' ', 'O', ' ']\n",
    "\n",
    "# Shuffle List\n",
    "def shuffle_list(mylist):\n",
    "    shuffle(mylist)\n",
    "    return mylist\n",
    "\n",
    "mixed_list= shuffle_list(game_list)\n",
    "\n",
    "# User Guess or input\n",
    "def player_guess():\n",
    "    guess = ''\n",
    "    while guess not in ['0','1','2']:\n",
    "        guess = input ('pick a number : 0,1 or 2 ')\n",
    "\n",
    "    return int(guess)\n",
    "\n",
    "guessed_index = player_guess()\n",
    "\n",
    "# checking\n",
    "def check_guess(game_list, guess): # those game_list and guess are just arguments and not related with the above\n",
    "    if game_list[guess] == 'O':\n",
    "        print ('You are Right')\n",
    "    else:\n",
    "        print ('you are wrong')\n",
    "        print (mixed_list)\n",
    "    \n",
    "check_guess(mixed_list, guessed_index)"
   ]
  }
 ],
 "metadata": {
  "kernelspec": {
   "display_name": "Python 3",
   "language": "python",
   "name": "python3"
  },
  "language_info": {
   "codemirror_mode": {
    "name": "ipython",
    "version": 3
   },
   "file_extension": ".py",
   "mimetype": "text/x-python",
   "name": "python",
   "nbconvert_exporter": "python",
   "pygments_lexer": "ipython3",
   "version": "3.10.12"
  }
 },
 "nbformat": 4,
 "nbformat_minor": 2
}
