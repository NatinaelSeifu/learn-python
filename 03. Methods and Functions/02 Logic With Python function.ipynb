{
 "cells": [
  {
   "cell_type": "code",
   "execution_count": null,
   "metadata": {},
   "outputs": [],
   "source": [
    "def even_checker(num):\n",
    "    return num %2 == 0\n",
    "even_checker(20)"
   ]
  },
  {
   "cell_type": "code",
   "execution_count": 4,
   "metadata": {},
   "outputs": [],
   "source": [
    "# Return True if any number is even inside a list\n",
    "def check_even_list (num_list):\n",
    "    for num in num_list:\n",
    "        if num %2 == 0:\n",
    "            return True\n",
    "        else:\n",
    "            pass\n",
    "check_even_list([1,3,5])\n",
    "# This results nothing because the list consists odd numbers"
   ]
  },
  {
   "cell_type": "code",
   "execution_count": 6,
   "metadata": {},
   "outputs": [
    {
     "data": {
      "text/plain": [
       "False"
      ]
     },
     "execution_count": 6,
     "metadata": {},
     "output_type": "execute_result"
    }
   ],
   "source": [
    "def check_even_list (num_list):\n",
    "    for num in num_list:\n",
    "        if num %2 == 0:\n",
    "            return True\n",
    "        else:\n",
    "            pass\n",
    "    return False\n",
    "check_even_list([1,3,5])\n",
    "# The reason why the return False is outside because in the list we want the code to through all and if there is even it will print True, and if the function completed and never brokeout the True return statement\n",
    "# then it will pass to the outside return False."
   ]
  },
  {
   "cell_type": "code",
   "execution_count": 15,
   "metadata": {},
   "outputs": [
    {
     "data": {
      "text/plain": [
       "[2, 4]"
      ]
     },
     "execution_count": 15,
     "metadata": {},
     "output_type": "execute_result"
    }
   ],
   "source": [
    "# return all the numbers that are even\n",
    "even_numbers = []\n",
    "def check_even_list (num_list):\n",
    "    for num in num_list:\n",
    "        if num %2 == 0:\n",
    "            even_numbers.append(num)\n",
    "        else:\n",
    "            pass\n",
    "    return even_numbers\n",
    "\n",
    "check_even_list([1,2,4,5])"
   ]
  }
 ],
 "metadata": {
  "kernelspec": {
   "display_name": "Python 3",
   "language": "python",
   "name": "python3"
  },
  "language_info": {
   "codemirror_mode": {
    "name": "ipython",
    "version": 3
   },
   "file_extension": ".py",
   "mimetype": "text/x-python",
   "name": "python",
   "nbconvert_exporter": "python",
   "pygments_lexer": "ipython3",
   "version": "3.10.12"
  }
 },
 "nbformat": 4,
 "nbformat_minor": 2
}
