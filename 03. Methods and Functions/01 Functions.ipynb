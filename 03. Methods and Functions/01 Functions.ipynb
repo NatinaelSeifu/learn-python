{
 "cells": [
  {
   "cell_type": "markdown",
   "metadata": {},
   "source": [
    "* Functions allow us to create blocks of code that can be easily executed many times without needing to constantly rewrite the entire block of code.\n",
    "* def will be using to create a function.\n",
    "  * syntax : \n",
    "    * def `name_of_function():`\n",
    "  * snake case is used widely."
   ]
  },
  {
   "cell_type": "code",
   "execution_count": 4,
   "metadata": {},
   "outputs": [
    {
     "name": "stdout",
     "output_type": "stream",
     "text": [
      "hello\n",
      "Hello + Nati\n"
     ]
    }
   ],
   "source": [
    "\n",
    "def say_hello():\n",
    "    print('hello')\n",
    "# calling the function\n",
    "say_hello()\n",
    "#####################\n",
    "def greeting(name):\n",
    "    print (f'Hello + {name}')\n",
    "\n",
    "greeting('Nati')"
   ]
  },
  {
   "cell_type": "markdown",
   "metadata": {},
   "source": [
    "* Difference between print and return is \n",
    "  * print used to display the final output of a code on the console.\n",
    "  * return statement returns a final value of a function execution which may be used further in the code. it also used to assign to another variable"
   ]
  },
  {
   "cell_type": "code",
   "execution_count": null,
   "metadata": {},
   "outputs": [],
   "source": [
    "def print_result(a,b):\n",
    "    print(a+b)\n",
    "print_result(3,5)\n",
    "# this code definitely give as an output"
   ]
  },
  {
   "cell_type": "code",
   "execution_count": 6,
   "metadata": {},
   "outputs": [
    {
     "data": {
      "text/plain": [
       "8"
      ]
     },
     "execution_count": 6,
     "metadata": {},
     "output_type": "execute_result"
    }
   ],
   "source": [
    "def return_result(a,b):\n",
    "    return (a+b)\n",
    "# return_result(3,5)\n",
    "# This will store the data and not result the output. but if its on jupyter notebook it will give the result\n",
    "# now I can assign a variable for the reusult to be output.\n",
    "\n",
    "result = return_result(3,5)\n",
    "\n",
    "result"
   ]
  }
 ],
 "metadata": {
  "kernelspec": {
   "display_name": "Python 3",
   "language": "python",
   "name": "python3"
  },
  "language_info": {
   "codemirror_mode": {
    "name": "ipython",
    "version": 3
   },
   "file_extension": ".py",
   "mimetype": "text/x-python",
   "name": "python",
   "nbconvert_exporter": "python",
   "pygments_lexer": "ipython3",
   "version": "3.10.12"
  }
 },
 "nbformat": 4,
 "nbformat_minor": 2
}
