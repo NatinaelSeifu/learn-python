{
 "cells": [
  {
   "cell_type": "markdown",
   "metadata": {},
   "source": [
    "* `*args` and `**kwargs` allow you to pass multiple arguments or keyword arguments to a function.\n",
    "* `args` allows to pass in many arguments as you want and you get the tuple of arguments.\n",
    "* `**kwargs` are keyword arguments that builds a dictionary of key value pairs."
   ]
  },
  {
   "cell_type": "code",
   "execution_count": 7,
   "metadata": {},
   "outputs": [
    {
     "name": "stdout",
     "output_type": "stream",
     "text": [
      "(10, 50, 40, 60, 100)\n"
     ]
    },
    {
     "data": {
      "text/plain": [
       "26.0"
      ]
     },
     "execution_count": 7,
     "metadata": {},
     "output_type": "execute_result"
    }
   ],
   "source": [
    "# lets see an example that sums multiple numbers and find their 10% using *args\n",
    "def myfunc (*args): # 'args' is an arbitratry convention you can change it as you want. you can use your name but the `*` is mandatory\n",
    "    # as I said it will return a tupple. to see that we will use print(args)\n",
    "    print(args)\n",
    "    return sum(args) * 0.10\n",
    "    \n",
    "myfunc(10,50,40,60,100) # here it will take many as you want"
   ]
  },
  {
   "cell_type": "code",
   "execution_count": 10,
   "metadata": {},
   "outputs": [
    {
     "name": "stdout",
     "output_type": "stream",
     "text": [
      "{'fruit': 'Apple', 'drink': 'beer'}\n",
      "my favorite friut is Apple\n"
     ]
    }
   ],
   "source": [
    "def myfunc2 (**kwargs):\n",
    "    # just to see the type, will it result a dictionary?\n",
    "    print (kwargs)\n",
    "    # simple example\n",
    "    if 'fruit' in kwargs:\n",
    "        print ('my favorite friut is {}'.format(kwargs['fruit']))\n",
    "    else:\n",
    "        print ('ntn more')\n",
    "myfunc2 (fruit = 'Apple', drink = 'beer')"
   ]
  },
  {
   "cell_type": "markdown",
   "metadata": {},
   "source": [
    "* we can also use both args and kwargs together"
   ]
  },
  {
   "cell_type": "code",
   "execution_count": 13,
   "metadata": {},
   "outputs": [
    {
     "name": "stdout",
     "output_type": "stream",
     "text": [
      "('zwei', 20, 'hundert')\n",
      "{'essen': 'injera', 'obst': 'banane', 'haustiere': 'Hund'}\n",
      "Ich mochte zwei banane \n"
     ]
    }
   ],
   "source": [
    "def myfunc3 (*args, **kwargs):\n",
    "    print (args)\n",
    "    print (kwargs)\n",
    "    print ('Ich mochte {} {} '.format(args[0], kwargs['obst']))\n",
    "\n",
    "myfunc3('zwei', 20, 'hundert', essen= 'injera', obst = 'banane', haustiere = 'Hund')\n",
    "\n",
    "# Dont get confused its Duetsch"
   ]
  }
 ],
 "metadata": {
  "kernelspec": {
   "display_name": "Python 3",
   "language": "python",
   "name": "python3"
  },
  "language_info": {
   "codemirror_mode": {
    "name": "ipython",
    "version": 3
   },
   "file_extension": ".py",
   "mimetype": "text/x-python",
   "name": "python",
   "nbconvert_exporter": "python",
   "pygments_lexer": "ipython3",
   "version": "3.10.12"
  }
 },
 "nbformat": 4,
 "nbformat_minor": 2
}
