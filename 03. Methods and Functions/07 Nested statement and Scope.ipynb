{
 "cells": [
  {
   "cell_type": "code",
   "execution_count": 1,
   "metadata": {},
   "outputs": [],
   "source": [
    "x = 25\n",
    "def printer():\n",
    "    x = 50 # this 'x' reassignment is seem to have  affect in this function \n",
    "    return x"
   ]
  },
  {
   "cell_type": "code",
   "execution_count": 2,
   "metadata": {},
   "outputs": [
    {
     "name": "stdout",
     "output_type": "stream",
     "text": [
      "25\n"
     ]
    }
   ],
   "source": [
    "print (x) # This will prints 25, it refers the global assigned value of x and not inside the function"
   ]
  },
  {
   "cell_type": "code",
   "execution_count": 3,
   "metadata": {},
   "outputs": [
    {
     "name": "stdout",
     "output_type": "stream",
     "text": [
      "50\n"
     ]
    }
   ],
   "source": [
    "print (printer()) # here it will prints x value of 50 "
   ]
  },
  {
   "cell_type": "markdown",
   "metadata": {},
   "source": [
    "how does Python know which x you're referring to in your code? This is where the idea of scope comes in. Python has a set of rules it follows to decide what variables (such as x in this case) you are referencing in your code. Lets break down the rules:\n",
    "\n",
    "This idea of scope in your code is very important to understand in order to properly assign and call variable names.\n",
    "\n",
    "In simple terms, the idea of scope can be described by 3 general rules:\n",
    "\n",
    "1. Name assignments will create or change local names by default.\n",
    "2. Name references search (at most) four scopes, these are:  \n",
    "   * local\n",
    "   * Enclosing\n",
    "   * Global\n",
    "   * Built-in\n",
    "3. Names declared in global and nonlocal statements map assigned names to enclosing module and function scopes.\n",
    "The statement in #2 above can be defined by the LEGB rule.\n",
    "\n",
    "**LEGB Rule:**\n",
    "\n",
    "* L: Local — Names assigned in any way within a function (def or lambda), and not declared global in that function.\n",
    "\n",
    "* E: Enclosing function locals — Names in the local scope of any and all enclosing functions (def or lambda), from inner to outer.\n",
    "\n",
    "* G: Global (module) — Names assigned at the top-level of a module file, or declared global in a def within the file.\n",
    "\n",
    "* B: Built-in (Python) — Names preassigned in the built-in names module : open, range, SyntaxError,..."
   ]
  },
  {
   "cell_type": "code",
   "execution_count": null,
   "metadata": {},
   "outputs": [],
   "source": [
    "name = 'Global String'\n",
    "\n",
    "def greet ():\n",
    "    name = 'Natty'\n",
    "    def hello():\n",
    "        print ('Hello '+name)\n",
    "\n",
    "    hello()\n"
   ]
  },
  {
   "cell_type": "code",
   "execution_count": null,
   "metadata": {},
   "outputs": [],
   "source": [
    "greet() # when I call this function it returns Hello Natty why?"
   ]
  },
  {
   "cell_type": "markdown",
   "metadata": {},
   "source": [
    "* greet() should execute hello() function. during this time the hello() would look a variable assigned for 'name' locally. if it doesnt find any it will move to the Enclosing function which is greet() function in this case. Now it will find for name assigned. So it will execute. next the greet() was expectin the hello() result and found. Now it will execute and complete the function.\n",
    "* Now lets assume we commented out the name = 'Natty' from greet() like below"
   ]
  },
  {
   "cell_type": "code",
   "execution_count": 12,
   "metadata": {},
   "outputs": [],
   "source": [
    "name = 'Global String'\n",
    "# global\n",
    "def greet ():\n",
    "    # Enclosing\n",
    "    # name = 'Natty'\n",
    "    def hello():\n",
    "        # local\n",
    "        print ('Hello '+name)\n",
    "\n",
    "    hello()\n"
   ]
  },
  {
   "cell_type": "markdown",
   "metadata": {},
   "source": [
    "* In this case also the hello() would look the value assigned  for variable 'name' **locally** and it couldnt find one. Next it will proceed to the **enclosing function** which is greet(). In here also it couldnt find. So the last thing to do is look for the value **globally**. Now it will find one so it will start executing. Then the result will be"
   ]
  },
  {
   "cell_type": "code",
   "execution_count": 13,
   "metadata": {},
   "outputs": [
    {
     "name": "stdout",
     "output_type": "stream",
     "text": [
      "Hello Global String\n"
     ]
    }
   ],
   "source": [
    "greet()"
   ]
  },
  {
   "cell_type": "markdown",
   "metadata": {},
   "source": [
    "* Now the built-in - this are the only level above the global level and they are the built-in names module : open, range, SyntaxError,... overriding them isnt a good practice."
   ]
  }
 ],
 "metadata": {
  "kernelspec": {
   "display_name": "Python 3",
   "language": "python",
   "name": "python3"
  },
  "language_info": {
   "codemirror_mode": {
    "name": "ipython",
    "version": 3
   },
   "file_extension": ".py",
   "mimetype": "text/x-python",
   "name": "python",
   "nbconvert_exporter": "python",
   "pygments_lexer": "ipython3",
   "version": "3.10.12"
  }
 },
 "nbformat": 4,
 "nbformat_minor": 2
}
