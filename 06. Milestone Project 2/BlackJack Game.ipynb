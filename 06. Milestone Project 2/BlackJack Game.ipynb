{
 "cells": [
  {
   "cell_type": "code",
   "execution_count": 19,
   "metadata": {},
   "outputs": [],
   "source": [
    "import random\n",
    "suits = ('Hearts', 'Diamonds', 'Spades', 'Clubs')\n",
    "ranks = ('Two', 'Three', 'Four', 'Five', 'Six', 'Seven', 'Eight', 'Nine', 'Ten', 'Jack', 'Queen', 'King', 'Ace')\n",
    "values = {'Two':2, 'Three':3, 'Four':4, 'Five':5, 'Six':6, 'Seven':7, 'Eight':8, 'Nine':9, 'Ten':10, 'Jack':10, 'Queen':10, 'King':10, 'Ace':11}"
   ]
  },
  {
   "cell_type": "code",
   "execution_count": 20,
   "metadata": {},
   "outputs": [],
   "source": [
    "class Card:\n",
    "    \n",
    "    def __init__(self,suit,rank):\n",
    "        self.suit = suit\n",
    "        self.rank = rank\n",
    "        self.value = values[rank]   # Just to call the numbers in integer form\n",
    "        \n",
    "    def __str__(self):\n",
    "        return self.rank + ' of ' + self.suit"
   ]
  },
  {
   "cell_type": "code",
   "execution_count": 21,
   "metadata": {},
   "outputs": [
    {
     "data": {
      "text/plain": [
       "3"
      ]
     },
     "execution_count": 21,
     "metadata": {},
     "output_type": "execute_result"
    }
   ],
   "source": [
    "three_of_spades = Card('Spades', 'Three')\n",
    "\n",
    "three_of_spades.value # I am calling it here"
   ]
  },
  {
   "cell_type": "code",
   "execution_count": 22,
   "metadata": {},
   "outputs": [],
   "source": [
    "class Deck:\n",
    "    def __init__(self) :\n",
    "        self.all_cards = []\n",
    "        for suit in suits:\n",
    "            for rank in ranks:\n",
    "                # create the Card Object\n",
    "                created_card = Card(suit,rank)\n",
    "                self.all_cards.append(created_card)\n",
    "\n",
    "    #2nd method after running the next cell and back to this\n",
    "    def shuffling(self):\n",
    "        random.shuffle(self.all_cards)\n",
    "    # this will do removing one card from the deck when I take one card\n",
    "    def deal_one(self):\n",
    "        return self.all_cards.pop()"
   ]
  },
  {
   "cell_type": "code",
   "execution_count": 23,
   "metadata": {},
   "outputs": [
    {
     "name": "stdout",
     "output_type": "stream",
     "text": [
      "Two of Hearts\n"
     ]
    }
   ],
   "source": [
    "new_deck = Deck()\n",
    "\n",
    "first_card = new_deck.all_cards[0]\n",
    "\n",
    "print (first_card)"
   ]
  },
  {
   "cell_type": "code",
   "execution_count": 24,
   "metadata": {},
   "outputs": [
    {
     "name": "stdout",
     "output_type": "stream",
     "text": [
      "Four of Hearts\n"
     ]
    }
   ],
   "source": [
    "new_deck.shuffling()\n",
    "\n",
    "print (new_deck.all_cards[0])"
   ]
  },
  {
   "cell_type": "code",
   "execution_count": 25,
   "metadata": {},
   "outputs": [
    {
     "name": "stdout",
     "output_type": "stream",
     "text": [
      "Four of Clubs\n"
     ]
    },
    {
     "data": {
      "text/plain": [
       "51"
      ]
     },
     "execution_count": 25,
     "metadata": {},
     "output_type": "execute_result"
    }
   ],
   "source": [
    "my_card = new_deck.deal_one()\n",
    "\n",
    "print(my_card)\n",
    "\n",
    "len(new_deck.all_cards)"
   ]
  },
  {
   "cell_type": "code",
   "execution_count": 26,
   "metadata": {},
   "outputs": [],
   "source": [
    "class Player:\n",
    "    def __init__(self, name) :\n",
    "        self.name = name\n",
    "        self.all_cards = []\n",
    "    \n",
    "    def remove_one(self):\n",
    "        return self.all_cards.pop(0)\n",
    "    \n",
    "    def add_cards(self, new_cards):\n",
    "        if type(new_cards) == type ([]):\n",
    "            self.add_cards.extend(new_cards)\n",
    "        else:\n",
    "            self.all_cards.append(new_cards)\n",
    "\n",
    "    def __str__(self) :\n",
    "        return f'player {self.name} has {len(self.all_cards)} cards.'"
   ]
  },
  {
   "cell_type": "code",
   "execution_count": 27,
   "metadata": {},
   "outputs": [
    {
     "name": "stdout",
     "output_type": "stream",
     "text": [
      "player Nati has 0 cards.\n"
     ]
    }
   ],
   "source": [
    "new_player = Player('Nati')\n",
    "\n",
    "print (new_player)"
   ]
  },
  {
   "cell_type": "code",
   "execution_count": 28,
   "metadata": {},
   "outputs": [
    {
     "name": "stdout",
     "output_type": "stream",
     "text": [
      "player Nati has 1 cards.\n"
     ]
    }
   ],
   "source": [
    "new_player.add_cards(my_card)\n",
    "\n",
    "print (new_player)"
   ]
  },
  {
   "cell_type": "code",
   "execution_count": 29,
   "metadata": {},
   "outputs": [
    {
     "name": "stdout",
     "output_type": "stream",
     "text": [
      "Four of Clubs\n"
     ]
    }
   ],
   "source": [
    "print(new_player.all_cards[0])"
   ]
  },
  {
   "cell_type": "code",
   "execution_count": 30,
   "metadata": {},
   "outputs": [],
   "source": [
    "# Game Setup\n",
    "player_one = Player('one')\n",
    "player_two = Player('two')\n",
    "\n",
    "new_deck = Deck()\n",
    "\n",
    "new_deck.shuffling()\n",
    "\n",
    "for x in range(26):\n",
    "    player_one.add_cards(new_deck.deal_one())\n",
    "    player_two.add_cards(new_deck.deal_one())"
   ]
  },
  {
   "cell_type": "code",
   "execution_count": null,
   "metadata": {},
   "outputs": [],
   "source": [
    "game_on = True\n",
    "round_num = 0\n",
    "\n",
    "while game_on:\n",
    "    round_num += 1\n",
    "    print (f'round {round_num}')\n",
    "\n",
    "    if len(player_one.all_cards) == 0:\n",
    "        print ('Player one, out of cards! Player Two Wins')\n",
    "        game_on = False\n",
    "\n",
    "    if len(player_two.all_cards) == 0:\n",
    "        print ('Player Two, out of cards! Player One Wins')\n",
    "        game_on = False\n",
    "\n",
    "    # start new round\n",
    "    player_one_cards = []\n",
    "    player_one_cards.append(player_one.remove_one())\n",
    "    \n",
    "    player_two_cards = []\n",
    "    player_one_cards.append(player_two.remove_one())\n",
    "\n",
    "    at_war = True\n",
    "\n",
    "    while at_war:\n",
    "        if player_one_cards[-1].value > player_two_cards[-1].value:\n",
    "\n",
    "            player_one.add_cards(player_one_cards)\n",
    "            player_one.add_cards(player_two_cards)\n",
    "\n",
    "            at_war = False\n",
    "            break\n",
    "\n",
    "        elif player_one_cards[-1].value < player_two_cards[-1].value:\n",
    "\n",
    "            player_two.add_cards(player_one_cards)\n",
    "            player_two.add_cards(player_two_cards)\n",
    "\n",
    "            at_war = False\n",
    "            break\n",
    "        \n",
    "        else:\n",
    "            print ('war')\n",
    "\n",
    "            if len(player_one.all_cards) < 5:\n",
    "                print ('player One unable to declare war')\n",
    "                print ('player two wins')\n",
    "                game_on = False\n",
    "\n",
    "            elif len(player_two.all_cards) < 5:\n",
    "                print ('player Two unable to declare war')\n",
    "                print ('player one wins')\n",
    "                game_on = False\n",
    "\n",
    "            else:\n",
    "                for num in range (5):\n",
    "                    player_one_cards.append(player_one.remove_one())\n",
    "                    player_two_cards.append(player_two.remove_one())"
   ]
  }
 ],
 "metadata": {
  "kernelspec": {
   "display_name": "Python 3",
   "language": "python",
   "name": "python3"
  },
  "language_info": {
   "codemirror_mode": {
    "name": "ipython",
    "version": 3
   },
   "file_extension": ".py",
   "mimetype": "text/x-python",
   "name": "python",
   "nbconvert_exporter": "python",
   "pygments_lexer": "ipython3",
   "version": "3.10.12"
  }
 },
 "nbformat": 4,
 "nbformat_minor": 2
}
