{
 "cells": [
  {
   "cell_type": "code",
   "execution_count": 1,
   "metadata": {},
   "outputs": [
    {
     "name": "stdout",
     "output_type": "stream",
     "text": [
      "an error occured\n"
     ]
    }
   ],
   "source": [
    "def myfunc():\n",
    "    try:\n",
    "        for i in ['a','b','c']:\n",
    "            print (i**2)\n",
    "    except:\n",
    "        print ('an error occured')\n",
    "\n",
    "myfunc()"
   ]
  },
  {
   "cell_type": "code",
   "execution_count": 2,
   "metadata": {},
   "outputs": [
    {
     "name": "stdout",
     "output_type": "stream",
     "text": [
      "division by zero\n",
      "All done\n"
     ]
    }
   ],
   "source": [
    "def errorhandling():\n",
    "    x = 5\n",
    "    y = 0\n",
    "    try:\n",
    "        z= x/y\n",
    "    except ZeroDivisionError:\n",
    "        print ('division by zero')\n",
    "    finally:            # finally always printedout whether the try is working or not\n",
    "        print ('All done')\n",
    "\n",
    "errorhandling()"
   ]
  },
  {
   "cell_type": "code",
   "execution_count": 6,
   "metadata": {},
   "outputs": [
    {
     "name": "stdout",
     "output_type": "stream",
     "text": [
      "An error occured Please try again\n",
      "An error occured Please try again\n",
      "Thank you your number squared is 1\n"
     ]
    }
   ],
   "source": [
    "def ask():\n",
    "    while True:\n",
    "        try:            # it'll try the below code and if there's an error the code passes to the except and not stop\n",
    "            sqrt = int(input ('Enter a number to square: '))\n",
    "            result = sqrt**2\n",
    "        except ValueError: # with this, if the above try couldn't work properly it will proceed to this, like print there's an error and so on\n",
    "            print('An error occured Please try again')\n",
    "        else:\n",
    "            print(f'Thank you your number squared is {result}') # if error isnt throwed it will do this!\n",
    "            break\n",
    "\n",
    "ask()"
   ]
  }
 ],
 "metadata": {
  "kernelspec": {
   "display_name": "Python 3",
   "language": "python",
   "name": "python3"
  },
  "language_info": {
   "codemirror_mode": {
    "name": "ipython",
    "version": 3
   },
   "file_extension": ".py",
   "mimetype": "text/x-python",
   "name": "python",
   "nbconvert_exporter": "python",
   "pygments_lexer": "ipython3",
   "version": "3.10.12"
  }
 },
 "nbformat": 4,
 "nbformat_minor": 2
}
