{
 "cells": [
  {
   "cell_type": "markdown",
   "metadata": {},
   "source": [
    "* Dictionaries are unordered mapping for storing objects.\n",
    "* They use Key-Value Pair.\n",
    "* They helps to quickly grab objects without knowing the index location of the object.\n",
    "  * Syntax :- `{'key1':'value1' , '{'key2':'value2'}` .\n",
    "* can't sort or something like that."
   ]
  },
  {
   "cell_type": "code",
   "execution_count": null,
   "metadata": {},
   "outputs": [],
   "source": [
    "dict01 = {'key01':'value01' , 'key02':'value02'}\n",
    "print (dict01)\n",
    "\n",
    "dict01['key01']\n",
    "\n",
    "# They can also support different data types\n",
    "prices_dict = {'apples':250, 'oranges':180, 'bananas': 50}\n",
    "\n",
    "prices_dict ['apples']"
   ]
  },
  {
   "cell_type": "code",
   "execution_count": null,
   "metadata": {},
   "outputs": [],
   "source": [
    "# Multiple Keys\n",
    "\n",
    "m_key = {'k1':50, 'k2':[0,1,2], 'k3':{'another_key':45}}\n",
    "\n",
    "m_key ['k3']['another_key']"
   ]
  },
  {
   "cell_type": "code",
   "execution_count": null,
   "metadata": {},
   "outputs": [],
   "source": [
    "m_key02 = {'k1':'abc', 'k2':{'another_key':['c','d','e']}}\n",
    "#grabbing an item from k2 the 3rd element\n",
    "print(m_key02 ['k2']['another_key'][2])\n",
    "# assign a variable to the above printed item\n",
    "another_list = m_key02['k2']['another_key'][2]\n",
    "# write it in upper level\n",
    "another_list.upper()"
   ]
  },
  {
   "cell_type": "code",
   "execution_count": null,
   "metadata": {},
   "outputs": [],
   "source": [
    "# add key-value to the dictionary\n",
    "\n",
    "dict_03 = {'key01':'value01' , 'key02':'value02'}\n",
    "print (dict_03)\n",
    "\n",
    "dict_03['key03']= 'value03'\n",
    "\n",
    "print (dict_03)\n",
    "\n",
    "# u can also change value of an item\n",
    "dict_03['key02'] = 'New_value'\n",
    "print (dict_03)\n",
    "\n",
    "# if i want all the keys in the dictionary\n",
    "print (dict_03.keys())\n",
    "# the same for the values\n",
    "print (dict_03.values())\n",
    "# if i want all the pairings\n",
    "print (dict_03.items())"
   ]
  }
 ],
 "metadata": {
  "kernelspec": {
   "display_name": "Python 3",
   "language": "python",
   "name": "python3"
  },
  "language_info": {
   "codemirror_mode": {
    "name": "ipython",
    "version": 3
   },
   "file_extension": ".py",
   "mimetype": "text/x-python",
   "name": "python",
   "nbconvert_exporter": "python",
   "pygments_lexer": "ipython3",
   "version": "3.10.12"
  }
 },
 "nbformat": 4,
 "nbformat_minor": 2
}
