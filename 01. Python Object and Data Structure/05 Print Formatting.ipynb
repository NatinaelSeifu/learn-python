{
 "cells": [
  {
   "cell_type": "markdown",
   "metadata": {},
   "source": [
    "* A good way to format objects into your strings for print statements is with the string `.format()` method. The syntax is :\n",
    "  * `string here {} then also {}'.format ('something1', 'something2')`"
   ]
  },
  {
   "cell_type": "code",
   "execution_count": 2,
   "metadata": {},
   "outputs": [
    {
     "name": "stdout",
     "output_type": "stream",
     "text": [
      "This is The end\n"
     ]
    }
   ],
   "source": [
    "print ('This is The {}' .format(\"end\"))"
   ]
  },
  {
   "cell_type": "code",
   "execution_count": 4,
   "metadata": {},
   "outputs": [
    {
     "name": "stdout",
     "output_type": "stream",
     "text": [
      "The quick brown fox\n"
     ]
    }
   ],
   "source": [
    "print (\"The {0} {2} {1}\" .format(\"quick\", \"fox\", \"brown\")) #using index in .format"
   ]
  },
  {
   "cell_type": "code",
   "execution_count": 5,
   "metadata": {},
   "outputs": [
    {
     "name": "stdout",
     "output_type": "stream",
     "text": [
      "The quick brown fox\n"
     ]
    }
   ],
   "source": [
    "print (\"The {q} {b} {f}\" .format(f='fox', b='brown', q='quick')) # assigning variable name to make it easier"
   ]
  },
  {
   "cell_type": "markdown",
   "metadata": {},
   "source": [
    "* Now lets see Float formatting\n",
    "    * syntax will be: \n",
    "      * \"{value:width.precision f}\""
   ]
  },
  {
   "cell_type": "code",
   "execution_count": 11,
   "metadata": {},
   "outputs": [
    {
     "name": "stdout",
     "output_type": "stream",
     "text": [
      "3.142857142857143\n"
     ]
    }
   ],
   "source": [
    "result = 22/7\n",
    "print (result)"
   ]
  },
  {
   "cell_type": "code",
   "execution_count": 17,
   "metadata": {},
   "outputs": [
    {
     "name": "stdout",
     "output_type": "stream",
     "text": [
      "The result was 3.1429\n"
     ]
    }
   ],
   "source": [
    "print (\"The result was {r:1.4f}\". format(r=result))\n",
    "# here the value is 'r' , width will be '1' which  i want to display only small area before point and precision is '3' which I want to round up to"
   ]
  },
  {
   "cell_type": "markdown",
   "metadata": {},
   "source": [
    "* F string formmating method\n",
    "  * structure :\n",
    "    * f 'string here {value}'"
   ]
  },
  {
   "cell_type": "code",
   "execution_count": 18,
   "metadata": {},
   "outputs": [
    {
     "name": "stdout",
     "output_type": "stream",
     "text": [
      "My name is Nati\n"
     ]
    }
   ],
   "source": [
    "name = \"Nati\"\n",
    "\n",
    "print (f'My name is {name}')"
   ]
  }
 ],
 "metadata": {
  "kernelspec": {
   "display_name": "Python 3",
   "language": "python",
   "name": "python3"
  },
  "language_info": {
   "codemirror_mode": {
    "name": "ipython",
    "version": 3
   },
   "file_extension": ".py",
   "mimetype": "text/x-python",
   "name": "python",
   "nbconvert_exporter": "python",
   "pygments_lexer": "ipython3",
   "version": "3.10.12"
  }
 },
 "nbformat": 4,
 "nbformat_minor": 2
}
