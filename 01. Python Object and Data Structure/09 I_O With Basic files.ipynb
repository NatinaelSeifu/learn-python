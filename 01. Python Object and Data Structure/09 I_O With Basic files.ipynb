{
 "cells": [
  {
   "cell_type": "code",
   "execution_count": null,
   "metadata": {},
   "outputs": [],
   "source": [
    "# This only works in jupyter notebook, if u arent using Jupyter notebook just create the textfile manually\n",
    "%%writefile testfile.txt\n",
    "Hello This is a simple text file\n",
    "This is the second line\n",
    "This is also the third line"
   ]
  },
  {
   "cell_type": "code",
   "execution_count": 2,
   "metadata": {},
   "outputs": [],
   "source": [
    "myfile = open('test.txt')"
   ]
  },
  {
   "cell_type": "code",
   "execution_count": 3,
   "metadata": {},
   "outputs": [
    {
     "data": {
      "text/plain": [
       "'Hello this is a simple text file\\nThis is the second line\\nThis is also the third line\\n'"
      ]
     },
     "execution_count": 3,
     "metadata": {},
     "output_type": "execute_result"
    }
   ],
   "source": [
    "myfile.read ()"
   ]
  },
  {
   "cell_type": "code",
   "execution_count": 4,
   "metadata": {},
   "outputs": [
    {
     "data": {
      "text/plain": [
       "''"
      ]
     },
     "execution_count": 4,
     "metadata": {},
     "output_type": "execute_result"
    }
   ],
   "source": [
    "# let me read it again. this time it will show '' because there is nothing to read after reading once\n",
    "myfile.read()"
   ]
  },
  {
   "cell_type": "code",
   "execution_count": null,
   "metadata": {},
   "outputs": [],
   "source": [
    "# so first we need to reset it \n",
    "myfile.seek(0)\n",
    "\n",
    "# now it will show the content\n",
    "print (myfile.read())"
   ]
  },
  {
   "cell_type": "code",
   "execution_count": null,
   "metadata": {},
   "outputs": [],
   "source": [
    "# if a list is needed to be fetched of a single element, use readlines\n",
    "myfile.seek(0)\n",
    "myfile.readlines()"
   ]
  },
  {
   "cell_type": "code",
   "execution_count": null,
   "metadata": {},
   "outputs": [],
   "source": [
    "# once done its good to close\n",
    "myfile.close()"
   ]
  },
  {
   "cell_type": "code",
   "execution_count": null,
   "metadata": {},
   "outputs": [],
   "source": [
    "# better way not worry about closing or so\n",
    "with open('test.txt') as my_new_file:\n",
    "    contents = my_new_file()"
   ]
  },
  {
   "cell_type": "code",
   "execution_count": 11,
   "metadata": {},
   "outputs": [
    {
     "name": "stdout",
     "output_type": "stream",
     "text": [
      "Hello This is a simple text file\n",
      "This is the second line\n",
      "This is also the third line\n",
      "This is the fourth line\n",
      "Its getting awesome\n"
     ]
    }
   ],
   "source": [
    "# u can set different mode for the file like read only , write only, append a text, and so on\n",
    "# here i am setting to append new text to the file\n",
    "with open ('test.txt', mode= 'a') as f:\n",
    "    f.write ('\\nThis is the fourth line')\n",
    "\n",
    "# here i am setting the mode to read\n",
    "with open('test.txt', mode='r') as my_new_file:\n",
    "    print(my_new_file.read())\n",
    "\n",
    "# here i am creating a file\n",
    "with open ('test2.txt', mode= 'w') as f2:\n",
    "    f2.write ('Its getting awesome')\n",
    "# then read it    \n",
    "with open('test2.txt', mode='r') as f2:\n",
    "    print(f2.read())\n"
   ]
  }
 ],
 "metadata": {
  "kernelspec": {
   "display_name": "Python 3",
   "language": "python",
   "name": "python3"
  },
  "language_info": {
   "codemirror_mode": {
    "name": "ipython",
    "version": 3
   },
   "file_extension": ".py",
   "mimetype": "text/x-python",
   "name": "python",
   "nbconvert_exporter": "python",
   "pygments_lexer": "ipython3",
   "version": "3.10.12"
  }
 },
 "nbformat": 4,
 "nbformat_minor": 2
}
