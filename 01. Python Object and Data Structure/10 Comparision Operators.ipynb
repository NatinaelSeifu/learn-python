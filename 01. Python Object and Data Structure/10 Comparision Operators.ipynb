{
 "cells": [
  {
   "cell_type": "code",
   "execution_count": null,
   "metadata": {},
   "outputs": [],
   "source": [
    "# equality\n",
    "# capitalization counts\n",
    "'Hello' == 'hello'\n",
    "\n",
    "# returns False\n",
    "2 == 1 \n",
    "\n",
    "#returns True\n",
    "2.0 == 2"
   ]
  },
  {
   "cell_type": "code",
   "execution_count": null,
   "metadata": {},
   "outputs": [],
   "source": [
    "# Inequality \n",
    "# all returns False\n",
    "\n",
    "3 != 3\n",
    "1 > 3\n",
    "4 < 2"
   ]
  },
  {
   "cell_type": "code",
   "execution_count": null,
   "metadata": {},
   "outputs": [],
   "source": [
    "# Greaterthan/lessthan or euqal to\n",
    "# all returns true\n",
    "4 >= 3\n",
    "3 >= 3\n",
    "2 <= 5"
   ]
  },
  {
   "cell_type": "markdown",
   "metadata": {},
   "source": [
    "* Another operators are logical operators. these are\n",
    "  * and\n",
    "  * or\n",
    "  * not\n",
    "* They can be used to combine comparisions."
   ]
  },
  {
   "cell_type": "code",
   "execution_count": null,
   "metadata": {},
   "outputs": [],
   "source": [
    "# and\n",
    "1 < 2 and 2 < 3\n",
    "('h' == 'h') and (2 == 2)\n",
    "\n",
    "#or\n",
    "1 == 1 or 2 == 3 # if one of them are true it will print true\n",
    "\n",
    "# not - to return the opposite boolean\n",
    "not 1 == 1\n",
    "# this will return False, because 1 equals 1 is True and when negating it it will be False"
   ]
  }
 ],
 "metadata": {
  "language_info": {
   "name": "python"
  }
 },
 "nbformat": 4,
 "nbformat_minor": 2
}
