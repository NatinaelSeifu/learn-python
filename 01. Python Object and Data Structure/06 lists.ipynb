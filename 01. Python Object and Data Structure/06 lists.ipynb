{
 "cells": [
  {
   "cell_type": "markdown",
   "metadata": {},
   "source": [
    "* Lists are ordered sequences that can hold variety of object Types.\n",
    "* They use `[]` and `commas` to separate objects."
   ]
  },
  {
   "cell_type": "code",
   "execution_count": null,
   "metadata": {},
   "outputs": [],
   "source": [
    "list01= [\"hello\", 15, 24.8]\n",
    "list02 = [\"one\", 2, \"three\"]\n",
    "\n",
    "# Here it will print the objects in the list\n",
    "print (list01)\n",
    "# the same as the above\n",
    "print (list02)\n",
    "\n",
    " # Here defining another  list which concatenates the two lists\n",
    "list03 = list01 + list02\n",
    "\n",
    "print (list03)"
   ]
  },
  {
   "cell_type": "code",
   "execution_count": null,
   "metadata": {},
   "outputs": [],
   "source": [
    "# Indexing on lists\n",
    "list01[1:]"
   ]
  },
  {
   "cell_type": "code",
   "execution_count": null,
   "metadata": {},
   "outputs": [],
   "source": [
    "# U can also replace objects in the list in any index(position)\n",
    "\n",
    "list03[-1] = 3\n",
    "\n",
    "print (list03)\n",
    "\n",
    "# U can also add objects in the list\n",
    "list03.append(\"four\")\n",
    "\n",
    "print (list03)\n",
    "\n",
    "# U can also remove objects  from the list in any index\n",
    "# default pop location is ion index -1\n",
    "popped_item = list03.pop(-2)\n",
    "# To see the popped item\n",
    "print (popped_item)\n",
    "\n",
    "print (list03)"
   ]
  },
  {
   "cell_type": "code",
   "execution_count": null,
   "metadata": {},
   "outputs": [],
   "source": [
    "# sorting for different types of objects wont work\n",
    "#list03.sort()\n",
    "\n",
    "#Lets sort the types of objects and assign it for other variable\n",
    "new_list = [\"z\", \"a\", \"j\", \"f\"]\n",
    "print (new_list)\n",
    "new_list.sort()\n",
    "sorted_list= new_list\n",
    "print (sorted_list)"
   ]
  },
  {
   "cell_type": "code",
   "execution_count": null,
   "metadata": {},
   "outputs": [],
   "source": [
    "# reversing the list\n",
    "\n",
    "num_list = [1,5,2,7,6,9,4]\n",
    "\n",
    "num_list.reverse()\n",
    "\n",
    "print (num_list)"
   ]
  }
 ],
 "metadata": {
  "kernelspec": {
   "display_name": "Python 3",
   "language": "python",
   "name": "python3"
  },
  "language_info": {
   "codemirror_mode": {
    "name": "ipython",
    "version": 3
   },
   "file_extension": ".py",
   "mimetype": "text/x-python",
   "name": "python",
   "nbconvert_exporter": "python",
   "pygments_lexer": "ipython3",
   "version": "3.10.12"
  }
 },
 "nbformat": 4,
 "nbformat_minor": 2
}
