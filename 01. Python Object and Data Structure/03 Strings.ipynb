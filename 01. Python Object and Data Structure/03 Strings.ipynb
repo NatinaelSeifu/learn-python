{
 "cells": [
  {
   "cell_type": "markdown",
   "metadata": {},
   "source": [
    "* Strings are sequences of characters that uses single or double quotes.\n",
    "  * eg. 'hello' or \"I don't know man\" \n",
    "  * if the string constists ' in it, make sure to use double quotation for the whole string. just like the above `don't` example.\n",
    "* Every character has an `Index number` in the string\n",
    "  * eg.   character :   H   e   l   l   o\n",
    "                      Index :   0   1   2   3   4\n",
    "* Since every string has an index we can use `Slicing`\n",
    "* Slicing allows you to grab a subsection of multiple characters, which is a \"slice\" of the string\n",
    "  * The syntax would be\n",
    "    * `[start:stop:step]`\n",
    "    * **start** is a numerical index for the slice start.\n",
    "    * **stop** is the index you will go up to(but not include).\n",
    "    * **step** is the size of the \"jump\" you take."
   ]
  },
  {
   "cell_type": "code",
   "execution_count": null,
   "metadata": {},
   "outputs": [],
   "source": [
    "'this is a string'"
   ]
  },
  {
   "cell_type": "code",
   "execution_count": null,
   "metadata": {},
   "outputs": [],
   "source": [
    "\"this is also a string\""
   ]
  },
  {
   "cell_type": "code",
   "execution_count": null,
   "metadata": {},
   "outputs": [],
   "source": [
    "'I'm going Home"
   ]
  },
  {
   "cell_type": "markdown",
   "metadata": {},
   "source": [
    "* The above example would be error beacuse the portion of the text is excluded by single quotation. rather use the below example."
   ]
  },
  {
   "cell_type": "code",
   "execution_count": null,
   "metadata": {},
   "outputs": [],
   "source": [
    "\"I'm going Home\""
   ]
  },
  {
   "cell_type": "markdown",
   "metadata": {},
   "source": [
    "* Now creating a different cell for every code we want to write maybe a bit exauhsitng so lets use \"print\". So it will give us all the things we want to print or get a result."
   ]
  },
  {
   "cell_type": "code",
   "execution_count": 1,
   "metadata": {},
   "outputs": [
    {
     "name": "stdout",
     "output_type": "stream",
     "text": [
      "hello world\n",
      "its getting good\n"
     ]
    }
   ],
   "source": [
    "print (\"hello world\")\n",
    "print ('its getting good')"
   ]
  },
  {
   "cell_type": "markdown",
   "metadata": {},
   "source": [
    "* There are also an escape sequences in python. like \"\\n\", \"\\t\" and so on"
   ]
  },
  {
   "cell_type": "code",
   "execution_count": 3,
   "metadata": {},
   "outputs": [
    {
     "name": "stdout",
     "output_type": "stream",
     "text": [
      "Hello \n",
      "World\n"
     ]
    }
   ],
   "source": [
    "# adding new line using \\n\n",
    "print (\"Hello \\nWorld\")"
   ]
  },
  {
   "cell_type": "code",
   "execution_count": 7,
   "metadata": {},
   "outputs": [
    {
     "name": "stdout",
     "output_type": "stream",
     "text": [
      "5\n",
      "7\n"
     ]
    }
   ],
   "source": [
    "# there is also eliane or length function\n",
    "print (len (\"hello\"))\n",
    "# which counts or checks the length of the string\n",
    "\n",
    "# another example\n",
    "print (len (\"hurr ay\"))\n",
    "# This  also counts the space"
   ]
  },
  {
   "cell_type": "markdown",
   "metadata": {},
   "source": [
    "* Now we are diving into indexing\n",
    "* Indexes are assigned in []\n",
    "* indexing is a way to refer to the individual items within an iterable by their position.\n",
    "* it starts from 0. which means the first element in a sequence is at position 0, the second element is at position 1, and so on."
   ]
  },
  {
   "cell_type": "code",
   "execution_count": 10,
   "metadata": {},
   "outputs": [],
   "source": [
    "my_string = \"Hallo Welt\" # in Deutsch Hallo welt means Hello world"
   ]
  },
  {
   "cell_type": "code",
   "execution_count": 11,
   "metadata": {},
   "outputs": [
    {
     "data": {
      "text/plain": [
       "'H'"
      ]
     },
     "execution_count": 11,
     "metadata": {},
     "output_type": "execute_result"
    }
   ],
   "source": [
    "my_string [0]"
   ]
  },
  {
   "cell_type": "code",
   "execution_count": 16,
   "metadata": {},
   "outputs": [
    {
     "data": {
      "text/plain": [
       "'e'"
      ]
     },
     "execution_count": 16,
     "metadata": {},
     "output_type": "execute_result"
    }
   ],
   "source": [
    "my_string [7]"
   ]
  },
  {
   "cell_type": "code",
   "execution_count": 15,
   "metadata": {},
   "outputs": [
    {
     "name": "stdout",
     "output_type": "stream",
     "text": [
      "t\n",
      "e\n"
     ]
    }
   ],
   "source": [
    "# can also use negative index positions\n",
    "print (my_string[-1]) # which returns the last character\n",
    "print (my_string [-3]) # which returns the 3rd character counting from the last"
   ]
  },
  {
   "cell_type": "markdown",
   "metadata": {},
   "source": [
    "* Now lets dive into Slicing\n",
    "* **Note** Dont forget the rules written above on slicing"
   ]
  },
  {
   "cell_type": "code",
   "execution_count": 24,
   "metadata": {},
   "outputs": [],
   "source": [
    "my_string = \"abcdefgjhijklmnopq\""
   ]
  },
  {
   "cell_type": "code",
   "execution_count": 21,
   "metadata": {},
   "outputs": [
    {
     "data": {
      "text/plain": [
       "'cdefgjhijklmnop'"
      ]
     },
     "execution_count": 21,
     "metadata": {},
     "output_type": "execute_result"
    }
   ],
   "source": [
    "my_string [2:] # This will give me a slice that starts from index 2 and ends at the last"
   ]
  },
  {
   "cell_type": "code",
   "execution_count": 22,
   "metadata": {},
   "outputs": [
    {
     "data": {
      "text/plain": [
       "'cdefg'"
      ]
     },
     "execution_count": 22,
     "metadata": {},
     "output_type": "execute_result"
    }
   ],
   "source": [
    "my_string [2:7] # This also starts slicing from index 2 all the way up to 6"
   ]
  },
  {
   "cell_type": "code",
   "execution_count": 26,
   "metadata": {},
   "outputs": [
    {
     "data": {
      "text/plain": [
       "'bejjmp'"
      ]
     },
     "execution_count": 26,
     "metadata": {},
     "output_type": "execute_result"
    }
   ],
   "source": [
    "# This will start slicing from index 1 all the way to the end by jumping 2 indexes\n",
    "my_string [1::3] "
   ]
  },
  {
   "cell_type": "code",
   "execution_count": 27,
   "metadata": {},
   "outputs": [
    {
     "data": {
      "text/plain": [
       "'aceg'"
      ]
     },
     "execution_count": 27,
     "metadata": {},
     "output_type": "execute_result"
    }
   ],
   "source": [
    "# This will start slicing from index 0 all the way to index 7 by jumping 1 indexes\n",
    "my_string [:8:2]"
   ]
  },
  {
   "cell_type": "code",
   "execution_count": 28,
   "metadata": {},
   "outputs": [
    {
     "data": {
      "text/plain": [
       "'qponmlkjihjgfedcba'"
      ]
     },
     "execution_count": 28,
     "metadata": {},
     "output_type": "execute_result"
    }
   ],
   "source": [
    "# This starts from the beggining all the way to the end and take a backward step by 1\n",
    "my_string [::-1] "
   ]
  }
 ],
 "metadata": {
  "kernelspec": {
   "display_name": "Python 3",
   "language": "python",
   "name": "python3"
  },
  "language_info": {
   "codemirror_mode": {
    "name": "ipython",
    "version": 3
   },
   "file_extension": ".py",
   "mimetype": "text/x-python",
   "name": "python",
   "nbconvert_exporter": "python",
   "pygments_lexer": "ipython3",
   "version": "3.10.12"
  }
 },
 "nbformat": 4,
 "nbformat_minor": 2
}
