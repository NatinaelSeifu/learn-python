{
 "cells": [
  {
   "cell_type": "code",
   "execution_count": 1,
   "metadata": {},
   "outputs": [
    {
     "name": "stdout",
     "output_type": "stream",
     "text": [
      "Sorry that is not a digit!\n",
      "Sorry that is not a digit!\n",
      "Sorry that is not a digit!\n"
     ]
    },
    {
     "data": {
      "text/plain": [
       "1"
      ]
     },
     "execution_count": 1,
     "metadata": {},
     "output_type": "execute_result"
    }
   ],
   "source": [
    "def user_choice():\n",
    "    \n",
    "    choice ='WRONG'\n",
    "    within_range = False\n",
    "    \n",
    "    while choice.isdigit() == False or within_range == False:\n",
    "        \n",
    "    \n",
    "    \n",
    "        choice = input(\"Please enter a number (0-10): \")\n",
    "        \n",
    "        if choice.isdigit() == False:\n",
    "            print(\"Sorry that is not a digit!\")\n",
    "            \n",
    "        if choice.isdigit() == True:\n",
    "            if int(choice) in range(0,10):\n",
    "                within_range = True\n",
    "            else:\n",
    "                within_range = False\n",
    "        \n",
    "    \n",
    "    return int(choice)\n",
    "\n",
    "user_choice()"
   ]
  },
  {
   "cell_type": "code",
   "execution_count": 1,
   "metadata": {},
   "outputs": [
    {
     "name": "stdout",
     "output_type": "stream",
     "text": [
      "not today\n",
      "not today\n",
      "not today\n",
      "you have finished ur trial\n"
     ]
    }
   ],
   "source": [
    "import random\n",
    "def inp_def():\n",
    "    is_guess = False\n",
    "    numlist = range(1,11)\n",
    "    num = random.randint(1,10)\n",
    "    endgame = 0\n",
    "\n",
    "    while is_guess== False:\n",
    "        choice = input ('Please enter a number (0-10): ')\n",
    "        if choice.isdigit():\n",
    "            if int(choice) in numlist:\n",
    "                if int(choice) == num:\n",
    "                    print ('You won') \n",
    "                    is_guess = True\n",
    "                else:\n",
    "                    print ('not today')\n",
    "                    endgame += 1\n",
    "                    if endgame == 3:\n",
    "                        print ('you have finished ur trial')\n",
    "                        is_guess = True\n",
    "            else :\n",
    "                print ('not in range')\n",
    "        else:\n",
    "            print ('invalid response')     \n",
    "inp_def()"
   ]
  },
  {
   "cell_type": "code",
   "execution_count": null,
   "metadata": {},
   "outputs": [],
   "source": []
  }
 ],
 "metadata": {
  "kernelspec": {
   "display_name": "Python 3",
   "language": "python",
   "name": "python3"
  },
  "language_info": {
   "codemirror_mode": {
    "name": "ipython",
    "version": 3
   },
   "file_extension": ".py",
   "mimetype": "text/x-python",
   "name": "python",
   "nbconvert_exporter": "python",
   "pygments_lexer": "ipython3",
   "version": "3.10.12"
  }
 },
 "nbformat": 4,
 "nbformat_minor": 2
}
