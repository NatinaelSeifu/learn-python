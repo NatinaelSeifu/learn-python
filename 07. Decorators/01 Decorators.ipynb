{
 "cells": [
  {
   "cell_type": "markdown",
   "metadata": {},
   "source": [
    "# Decorators\n",
    "\n",
    "* Decorators allow to decorate a function.\n",
    "* Decorators can be thought of as functions which modify the functionality of another function. They help to make your code shorter and more \"Pythonic\".\n",
    "* Consider them as a switch but not exactly."
   ]
  },
  {
   "cell_type": "code",
   "execution_count": 1,
   "metadata": {},
   "outputs": [
    {
     "data": {
      "text/plain": [
       "'Hello Nati'"
      ]
     },
     "execution_count": 1,
     "metadata": {},
     "output_type": "execute_result"
    }
   ],
   "source": [
    "def hello(name='Nati'):\n",
    "    return 'Hello '+name\n",
    "\n",
    "hello()"
   ]
  },
  {
   "cell_type": "code",
   "execution_count": 2,
   "metadata": {},
   "outputs": [],
   "source": [
    "greet = hello"
   ]
  },
  {
   "cell_type": "code",
   "execution_count": 4,
   "metadata": {},
   "outputs": [
    {
     "data": {
      "text/plain": [
       "'Hello Nati'"
      ]
     },
     "execution_count": 4,
     "metadata": {},
     "output_type": "execute_result"
    }
   ],
   "source": [
    "greet()"
   ]
  },
  {
   "cell_type": "code",
   "execution_count": 5,
   "metadata": {},
   "outputs": [
    {
     "ename": "NameError",
     "evalue": "name 'hello' is not defined",
     "output_type": "error",
     "traceback": [
      "\u001b[0;31m---------------------------------------------------------------------------\u001b[0m",
      "\u001b[0;31mNameError\u001b[0m                                 Traceback (most recent call last)",
      "Cell \u001b[0;32mIn[5], line 4\u001b[0m\n\u001b[1;32m      1\u001b[0m \u001b[38;5;66;03m# what if I delete function hello and execute it\u001b[39;00m\n\u001b[1;32m      2\u001b[0m \u001b[38;5;28;01mdel\u001b[39;00m hello\n\u001b[0;32m----> 4\u001b[0m \u001b[43mhello\u001b[49m()\n",
      "\u001b[0;31mNameError\u001b[0m: name 'hello' is not defined"
     ]
    }
   ],
   "source": [
    "# what if I delete function hello and execute it\n",
    "del hello\n",
    "\n",
    "hello()"
   ]
  },
  {
   "cell_type": "code",
   "execution_count": 11,
   "metadata": {},
   "outputs": [
    {
     "data": {
      "text/plain": [
       "'Hello Nati'"
      ]
     },
     "execution_count": 11,
     "metadata": {},
     "output_type": "execute_result"
    }
   ],
   "source": [
    "# on the above hello function is not there, lets try greet\n",
    "greet()\n",
    "# it definetly results in"
   ]
  },
  {
   "cell_type": "markdown",
   "metadata": {},
   "source": [
    "Even though we deleted the name hello, the name greet still points to our original function object. It is important to know that functions are objects that can be passed to other objects!"
   ]
  },
  {
   "cell_type": "code",
   "execution_count": 12,
   "metadata": {},
   "outputs": [
    {
     "name": "stdout",
     "output_type": "stream",
     "text": [
      "The hello() function has been executed\n",
      "\t This is inside the greet() function\n",
      "\t This is inside the welcome() function\n",
      "Now we are back inside the hello() function\n"
     ]
    }
   ],
   "source": [
    "def hello(name='Jose'):\n",
    "    print('The hello() function has been executed')\n",
    "    \n",
    "    def greet():\n",
    "        return '\\t This is inside the greet() function'\n",
    "    \n",
    "    def welcome():\n",
    "        return \"\\t This is inside the welcome() function\"\n",
    "    \n",
    "    print(greet())\n",
    "    print(welcome())\n",
    "    print(\"Now we are back inside the hello() function\")\n",
    "\n",
    "hello()"
   ]
  },
  {
   "cell_type": "code",
   "execution_count": 17,
   "metadata": {},
   "outputs": [
    {
     "ename": "NameError",
     "evalue": "name 'welcome' is not defined",
     "output_type": "error",
     "traceback": [
      "\u001b[0;31m---------------------------------------------------------------------------\u001b[0m",
      "\u001b[0;31mNameError\u001b[0m                                 Traceback (most recent call last)",
      "Cell \u001b[0;32mIn[17], line 2\u001b[0m\n\u001b[1;32m      1\u001b[0m \u001b[38;5;66;03m#welcome and greet functions aren't going to result any, lets try  one of them\u001b[39;00m\n\u001b[0;32m----> 2\u001b[0m \u001b[43mwelcome\u001b[49m()\n\u001b[1;32m      3\u001b[0m \u001b[38;5;66;03m# its throwing an error\u001b[39;00m\n",
      "\u001b[0;31mNameError\u001b[0m: name 'welcome' is not defined"
     ]
    }
   ],
   "source": [
    "#welcome and greet functions aren't going to result any, lets try  one of them\n",
    "welcome()\n",
    "# its throwing an error"
   ]
  },
  {
   "cell_type": "markdown",
   "metadata": {},
   "source": [
    "### Returning Functions"
   ]
  },
  {
   "cell_type": "code",
   "execution_count": 7,
   "metadata": {},
   "outputs": [
    {
     "data": {
      "text/plain": [
       "'\\t This is inside the greet() function'"
      ]
     },
     "execution_count": 7,
     "metadata": {},
     "output_type": "execute_result"
    }
   ],
   "source": [
    "def hello(name='Nati'):\n",
    "    \n",
    "    def greet():\n",
    "        return '\\t This is inside the greet() function'\n",
    "    \n",
    "    def welcome():\n",
    "        return \"\\t This is inside the welcome() function\"\n",
    "    \n",
    "    if name == 'Nati':\n",
    "        return greet()\n",
    "    else:\n",
    "        return welcome()\n",
    "\n",
    "hello()   "
   ]
  },
  {
   "cell_type": "code",
   "execution_count": 17,
   "metadata": {},
   "outputs": [
    {
     "data": {
      "text/plain": [
       "'\\t This is inside the greet() function'"
      ]
     },
     "execution_count": 17,
     "metadata": {},
     "output_type": "execute_result"
    }
   ],
   "source": [
    "my_new_func = hello()\n",
    "\n",
    "my_new_func"
   ]
  },
  {
   "cell_type": "code",
   "execution_count": 15,
   "metadata": {},
   "outputs": [
    {
     "name": "stdout",
     "output_type": "stream",
     "text": [
      "\t This is inside the greet() function\n"
     ]
    }
   ],
   "source": [
    "print (my_new_func)"
   ]
  },
  {
   "cell_type": "code",
   "execution_count": 22,
   "metadata": {},
   "outputs": [],
   "source": [
    "def hello():\n",
    "    return 'Hi Nati'"
   ]
  },
  {
   "cell_type": "code",
   "execution_count": 23,
   "metadata": {},
   "outputs": [],
   "source": [
    "def other_func(some_func):\n",
    "    print ('code executed below')\n",
    "    print (some_func)"
   ]
  },
  {
   "cell_type": "code",
   "execution_count": 24,
   "metadata": {},
   "outputs": [
    {
     "name": "stdout",
     "output_type": "stream",
     "text": [
      "code executed below\n",
      "Hi Nati\n"
     ]
    }
   ],
   "source": [
    "other_func(hello()) # here passing the first function"
   ]
  },
  {
   "cell_type": "code",
   "execution_count": 25,
   "metadata": {},
   "outputs": [],
   "source": [
    "def new_decorator(original_func):\n",
    "    def wrap_func():\n",
    "\n",
    "        print ('some extra code, before the original function')\n",
    "\n",
    "        original_func()\n",
    "\n",
    "        print ('some extra code, after the original function')\n",
    "\n",
    "    return wrap_func()\n"
   ]
  },
  {
   "cell_type": "code",
   "execution_count": 26,
   "metadata": {},
   "outputs": [],
   "source": [
    "def func_to_decorated():\n",
    "    print ('I want to be decorated')"
   ]
  },
  {
   "cell_type": "code",
   "execution_count": 27,
   "metadata": {},
   "outputs": [
    {
     "name": "stdout",
     "output_type": "stream",
     "text": [
      "some extra code, before the original function\n",
      "I want to be decorated\n",
      "some extra code, after the original function\n"
     ]
    }
   ],
   "source": [
    "new_decorator(func_to_decorated)"
   ]
  },
  {
   "cell_type": "code",
   "execution_count": 28,
   "metadata": {},
   "outputs": [
    {
     "name": "stdout",
     "output_type": "stream",
     "text": [
      "some extra code, before the original function\n",
      "I want to be decorated\n",
      "some extra code, after the original function\n"
     ]
    }
   ],
   "source": [
    "# rather use @ for decoration\n",
    "@new_decorator\n",
    "def func_to_decorated():\n",
    "    print ('I want to be decorated')"
   ]
  },
  {
   "cell_type": "code",
   "execution_count": 41,
   "metadata": {},
   "outputs": [],
   "source": [
    "def deco(original_func):\n",
    "    print ('do sthh')\n",
    "    original_func()\n",
    "    print ('do sth after code excecuted')"
   ]
  },
  {
   "cell_type": "code",
   "execution_count": 42,
   "metadata": {},
   "outputs": [
    {
     "name": "stdout",
     "output_type": "stream",
     "text": [
      "do sthh\n",
      "I need decoration\n",
      "do sth after code excecuted\n"
     ]
    }
   ],
   "source": [
    "@deco # here I can get by original function i simply comment out @deco\n",
    "def some_func_to_be_decorated():\n",
    "    print ('I need decoration')"
   ]
  }
 ],
 "metadata": {
  "kernelspec": {
   "display_name": "Python 3",
   "language": "python",
   "name": "python3"
  },
  "language_info": {
   "codemirror_mode": {
    "name": "ipython",
    "version": 3
   },
   "file_extension": ".py",
   "mimetype": "text/x-python",
   "name": "python",
   "nbconvert_exporter": "python",
   "pygments_lexer": "ipython3",
   "version": "3.10.12"
  }
 },
 "nbformat": 4,
 "nbformat_minor": 2
}
